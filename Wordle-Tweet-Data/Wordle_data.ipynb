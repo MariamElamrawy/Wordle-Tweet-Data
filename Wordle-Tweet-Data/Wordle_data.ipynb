{
 "cells": [
  {
   "cell_type": "code",
   "execution_count": 10,
   "id": "d81daa38",
   "metadata": {},
   "outputs": [],
   "source": [
    "import pandas as pd \n",
    "import numpy as np\n",
    "import matplotlib.pylab as plt #for plotting\n",
    "import seaborn as sns\n",
    "import re #for running rejecs on text data"
   ]
  },
  {
   "cell_type": "code",
   "execution_count": 14,
   "id": "18b8883c",
   "metadata": {},
   "outputs": [],
   "source": [
    "pd.set_option('display.max_columns', 500)\n",
    "\n",
    "# For plotting\n",
    "from itertools import cycle\n",
    "\n",
    "plt.style.use(\"ggplot\")\n",
    "color_pal = plt.rcParams[\"axes.prop_cycle\"].by_key()[\"color\"]\n",
    "color_cycle = cycle(plt.rcParams[\"axes.prop_cycle\"].by_key()[\"color\"])\n"
   ]
  },
  {
   "cell_type": "code",
   "execution_count": 17,
   "id": "76c4bc36",
   "metadata": {},
   "outputs": [],
   "source": [
    "#loading Dataset\n",
    "tweets = pd.read_csv('tweets.csv.zip')"
   ]
  },
  {
   "cell_type": "code",
   "execution_count": 20,
   "id": "482884a2",
   "metadata": {},
   "outputs": [
    {
     "data": {
      "text/plain": [
       "(234186, 5)"
      ]
     },
     "execution_count": 20,
     "metadata": {},
     "output_type": "execute_result"
    }
   ],
   "source": [
    "tweets.shape "
   ]
  },
  {
   "cell_type": "code",
   "execution_count": 23,
   "id": "eafe8746",
   "metadata": {},
   "outputs": [
    {
     "data": {
      "application/vnd.microsoft.datawrangler.viewer.v0+json": {
       "columns": [
        {
         "name": "index",
         "rawType": "int64",
         "type": "integer"
        },
        {
         "name": "wordle_id",
         "rawType": "int64",
         "type": "integer"
        },
        {
         "name": "tweet_id",
         "rawType": "int64",
         "type": "integer"
        },
        {
         "name": "tweet_date",
         "rawType": "object",
         "type": "string"
        },
        {
         "name": "tweet_username",
         "rawType": "object",
         "type": "string"
        },
        {
         "name": "tweet_text",
         "rawType": "object",
         "type": "string"
        }
       ],
       "conversionMethod": "pd.DataFrame",
       "ref": "9165da4b-79d4-4aa6-94c2-936fd64dd758",
       "rows": [
        [
         "0",
         "210",
         "1482553374591660037",
         "2022-01-16 03:20:43+00:00",
         "bpszebes",
         "Wordle 210 4/6\n\n⬛⬛🟨🟨⬛\n🟩⬛⬛⬛⬛\n🟩🟩🟨⬛⬛\n🟩🟩🟩🟩🟩"
        ],
        [
         "1",
         "210",
         "1482553387937898499",
         "2022-01-16 03:20:46+00:00",
         "cruisecoup",
         "Wordle 210 4/6\n\n⬜⬜⬜⬜⬜\n🟩🟩🟨🟨⬜\n🟩🟩⬜🟩🟨\n🟩🟩🟩🟩🟩"
        ],
        [
         "2",
         "210",
         "1482553422276698113",
         "2022-01-16 03:20:55+00:00",
         "DestroVega",
         "Wordle 210 4/6\n\n⬜⬜⬜🟨⬜\n⬜🟩⬜🟨⬜\n⬜🟩⬜🟨⬜\n🟩🟩🟩🟩🟩"
        ],
        [
         "3",
         "210",
         "1482553436910628866",
         "2022-01-16 03:20:58+00:00",
         "brenmardash",
         "Wordle 210 3/6\n\n⬜⬜🟨⬜⬜\n🟨🟨⬜⬜⬜\n🟩🟩🟩🟩🟩"
        ],
        [
         "4",
         "210",
         "1482553445726908420",
         "2022-01-16 03:21:00+00:00",
         "KatieHowse2",
         "Wordle 210 3/6\n\n⬛⬛🟨⬛⬛\n🟩🟩🟩⬛⬛\n🟩🟩🟩🟩🟩"
        ]
       ],
       "shape": {
        "columns": 5,
        "rows": 5
       }
      },
      "text/html": [
       "<div>\n",
       "<style scoped>\n",
       "    .dataframe tbody tr th:only-of-type {\n",
       "        vertical-align: middle;\n",
       "    }\n",
       "\n",
       "    .dataframe tbody tr th {\n",
       "        vertical-align: top;\n",
       "    }\n",
       "\n",
       "    .dataframe thead th {\n",
       "        text-align: right;\n",
       "    }\n",
       "</style>\n",
       "<table border=\"1\" class=\"dataframe\">\n",
       "  <thead>\n",
       "    <tr style=\"text-align: right;\">\n",
       "      <th></th>\n",
       "      <th>wordle_id</th>\n",
       "      <th>tweet_id</th>\n",
       "      <th>tweet_date</th>\n",
       "      <th>tweet_username</th>\n",
       "      <th>tweet_text</th>\n",
       "    </tr>\n",
       "  </thead>\n",
       "  <tbody>\n",
       "    <tr>\n",
       "      <th>0</th>\n",
       "      <td>210</td>\n",
       "      <td>1482553374591660037</td>\n",
       "      <td>2022-01-16 03:20:43+00:00</td>\n",
       "      <td>bpszebes</td>\n",
       "      <td>Wordle 210 4/6\\n\\n⬛⬛🟨🟨⬛\\n🟩⬛⬛⬛⬛\\n🟩🟩🟨⬛⬛\\n🟩🟩🟩🟩🟩</td>\n",
       "    </tr>\n",
       "    <tr>\n",
       "      <th>1</th>\n",
       "      <td>210</td>\n",
       "      <td>1482553387937898499</td>\n",
       "      <td>2022-01-16 03:20:46+00:00</td>\n",
       "      <td>cruisecoup</td>\n",
       "      <td>Wordle 210 4/6\\n\\n⬜⬜⬜⬜⬜\\n🟩🟩🟨🟨⬜\\n🟩🟩⬜🟩🟨\\n🟩🟩🟩🟩🟩</td>\n",
       "    </tr>\n",
       "    <tr>\n",
       "      <th>2</th>\n",
       "      <td>210</td>\n",
       "      <td>1482553422276698113</td>\n",
       "      <td>2022-01-16 03:20:55+00:00</td>\n",
       "      <td>DestroVega</td>\n",
       "      <td>Wordle 210 4/6\\n\\n⬜⬜⬜🟨⬜\\n⬜🟩⬜🟨⬜\\n⬜🟩⬜🟨⬜\\n🟩🟩🟩🟩🟩</td>\n",
       "    </tr>\n",
       "    <tr>\n",
       "      <th>3</th>\n",
       "      <td>210</td>\n",
       "      <td>1482553436910628866</td>\n",
       "      <td>2022-01-16 03:20:58+00:00</td>\n",
       "      <td>brenmardash</td>\n",
       "      <td>Wordle 210 3/6\\n\\n⬜⬜🟨⬜⬜\\n🟨🟨⬜⬜⬜\\n🟩🟩🟩🟩🟩</td>\n",
       "    </tr>\n",
       "    <tr>\n",
       "      <th>4</th>\n",
       "      <td>210</td>\n",
       "      <td>1482553445726908420</td>\n",
       "      <td>2022-01-16 03:21:00+00:00</td>\n",
       "      <td>KatieHowse2</td>\n",
       "      <td>Wordle 210 3/6\\n\\n⬛⬛🟨⬛⬛\\n🟩🟩🟩⬛⬛\\n🟩🟩🟩🟩🟩</td>\n",
       "    </tr>\n",
       "  </tbody>\n",
       "</table>\n",
       "</div>"
      ],
      "text/plain": [
       "   wordle_id             tweet_id                 tweet_date tweet_username  \\\n",
       "0        210  1482553374591660037  2022-01-16 03:20:43+00:00       bpszebes   \n",
       "1        210  1482553387937898499  2022-01-16 03:20:46+00:00     cruisecoup   \n",
       "2        210  1482553422276698113  2022-01-16 03:20:55+00:00     DestroVega   \n",
       "3        210  1482553436910628866  2022-01-16 03:20:58+00:00    brenmardash   \n",
       "4        210  1482553445726908420  2022-01-16 03:21:00+00:00    KatieHowse2   \n",
       "\n",
       "                                     tweet_text  \n",
       "0  Wordle 210 4/6\\n\\n⬛⬛🟨🟨⬛\\n🟩⬛⬛⬛⬛\\n🟩🟩🟨⬛⬛\\n🟩🟩🟩🟩🟩  \n",
       "1  Wordle 210 4/6\\n\\n⬜⬜⬜⬜⬜\\n🟩🟩🟨🟨⬜\\n🟩🟩⬜🟩🟨\\n🟩🟩🟩🟩🟩  \n",
       "2  Wordle 210 4/6\\n\\n⬜⬜⬜🟨⬜\\n⬜🟩⬜🟨⬜\\n⬜🟩⬜🟨⬜\\n🟩🟩🟩🟩🟩  \n",
       "3         Wordle 210 3/6\\n\\n⬜⬜🟨⬜⬜\\n🟨🟨⬜⬜⬜\\n🟩🟩🟩🟩🟩  \n",
       "4         Wordle 210 3/6\\n\\n⬛⬛🟨⬛⬛\\n🟩🟩🟩⬛⬛\\n🟩🟩🟩🟩🟩  "
      ]
     },
     "execution_count": 23,
     "metadata": {},
     "output_type": "execute_result"
    }
   ],
   "source": [
    "tweets.head()"
   ]
  },
  {
   "cell_type": "code",
   "execution_count": 25,
   "id": "53348daf",
   "metadata": {},
   "outputs": [
    {
     "name": "stdout",
     "output_type": "stream",
     "text": [
      "Wordle 210 4/6\n",
      "\n",
      "⬛⬛🟨🟨⬛\n",
      "🟩⬛⬛⬛⬛\n",
      "🟩🟩🟨⬛⬛\n",
      "🟩🟩🟩🟩🟩\n"
     ]
    }
   ],
   "source": [
    "print(tweets['tweet_text'][0])"
   ]
  },
  {
   "cell_type": "code",
   "execution_count": 49,
   "id": "f3a673b1",
   "metadata": {},
   "outputs": [],
   "source": [
    "def processing_tweets(tweets): #parsing tweet texts\n",
    "    tweets['tweet_datetime'] = pd.to_datetime(tweets['tweet_date'])#proper datetime64 and storesi n new column\n",
    "    tweets['tweet_date'] = tweets['tweet_datetime'].dt.date #takes date part from datetime and puts date in date\n",
    "    tweets\n",
    "    tweets['wordle_id']= tweets['tweet_text'].str[:10]\n",
    "    tweets['attempts'] = tweets['tweet_text'].str[11].astype('int')\n",
    "    tweets['Id'] = tweets['tweet_text'].str[7:10].astype('int')\n",
    "    return tweets\n",
    "\n",
    "tweets = processing_tweets(tweets)"
   ]
  },
  {
   "cell_type": "code",
   "execution_count": 56,
   "id": "830c8d0d",
   "metadata": {},
   "outputs": [
    {
     "data": {
      "image/png": "[encoded data removed]",
      "text/plain": [
       "<Figure size 1000x500 with 1 Axes>"
      ]
     },
     "metadata": {},
     "output_type": "display_data"
    }
   ],
   "source": [
    "#tweets per day\n",
    "tweets_per_day = tweets['tweet_date'].value_counts().sort_index() \\\n",
    "    .plot(figsize=(10, 5), title='Tweets per Day', lw=5)\n",
    "plt.show()\n"
   ]
  },
  {
   "cell_type": "code",
   "execution_count": 69,
   "id": "cc986c2c",
   "metadata": {},
   "outputs": [
    {
     "data": {
      "application/vnd.microsoft.datawrangler.viewer.v0+json": {
       "columns": [
        {
         "name": "wordle_id",
         "rawType": "object",
         "type": "string"
        },
        {
         "name": "2",
         "rawType": "int64",
         "type": "integer"
        },
        {
         "name": "3",
         "rawType": "int64",
         "type": "integer"
        },
        {
         "name": "4",
         "rawType": "int64",
         "type": "integer"
        },
        {
         "name": "5",
         "rawType": "int64",
         "type": "integer"
        },
        {
         "name": "6",
         "rawType": "int64",
         "type": "integer"
        }
       ],
       "conversionMethod": "pd.DataFrame",
       "ref": "ae5e0bcd-9716-4361-b3d6-d53f2d6e64bd",
       "rows": [
        [
         "Wordle 210",
         "222",
         "897",
         "1064",
         "489",
         "165"
        ],
        [
         "Wordle 211",
         "196",
         "903",
         "1016",
         "564",
         "215"
        ],
        [
         "Wordle 212",
         "191",
         "787",
         "820",
         "413",
         "188"
        ],
        [
         "Wordle 213",
         "51",
         "260",
         "630",
         "697",
         "481"
        ],
        [
         "Wordle 214",
         "383",
         "1012",
         "823",
         "363",
         "122"
        ],
        [
         "Wordle 215",
         "246",
         "877",
         "1017",
         "579",
         "224"
        ],
        [
         "Wordle 216",
         "461",
         "1952",
         "2078",
         "1199",
         "415"
        ],
        [
         "Wordle 217",
         "102",
         "566",
         "1031",
         "843",
         "418"
        ],
        [
         "Wordle 218",
         "170",
         "1009",
         "1384",
         "730",
         "187"
        ],
        [
         "Wordle 219",
         "38",
         "343",
         "927",
         "1039",
         "583"
        ],
        [
         "Wordle 220",
         "392",
         "1629",
         "2389",
         "1609",
         "637"
        ],
        [
         "Wordle 221",
         "274",
         "1530",
         "2630",
         "1608",
         "603"
        ],
        [
         "Wordle 222",
         "567",
         "2010",
         "2397",
         "1322",
         "468"
        ],
        [
         "Wordle 223",
         "597",
         "2885",
         "5086",
         "4594",
         "2614"
        ],
        [
         "Wordle 224",
         "443",
         "2100",
         "2528",
         "1418",
         "457"
        ],
        [
         "Wordle 225",
         "123",
         "1305",
         "2914",
         "1856",
         "699"
        ],
        [
         "Wordle 226",
         "687",
         "1801",
         "1796",
         "1189",
         "628"
        ],
        [
         "Wordle 227",
         "911",
         "2436",
         "2122",
         "995",
         "355"
        ],
        [
         "Wordle 228",
         "774",
         "1951",
         "1925",
         "968",
         "388"
        ],
        [
         "Wordle 229",
         "446",
         "1614",
         "2032",
         "1605",
         "807"
        ],
        [
         "Wordle 230",
         "691",
         "1993",
         "2087",
         "1323",
         "571"
        ],
        [
         "Wordle 231",
         "360",
         "1836",
         "2832",
         "1974",
         "811"
        ],
        [
         "Wordle 232",
         "87",
         "631",
         "1195",
         "937",
         "474"
        ],
        [
         "Wordle 233",
         "195",
         "943",
         "1762",
         "2061",
         "1492"
        ],
        [
         "Wordle 234",
         "668",
         "1423",
         "1633",
         "1574",
         "927"
        ],
        [
         "Wordle 235",
         "290",
         "1425",
         "2332",
         "1688",
         "751"
        ],
        [
         "Wordle 236",
         "792",
         "2519",
         "3417",
         "2260",
         "1066"
        ],
        [
         "Wordle 237",
         "383",
         "1835",
         "3293",
         "3131",
         "1518"
        ],
        [
         "Wordle 238",
         "400",
         "1587",
         "2553",
         "1793",
         "732"
        ],
        [
         "Wordle 239",
         "312",
         "1382",
         "1754",
         "1169",
         "423"
        ],
        [
         "Wordle 240",
         "110",
         "726",
         "2258",
         "2303",
         "1051"
        ],
        [
         "Wordle 241",
         "353",
         "1791",
         "2386",
         "1572",
         "733"
        ],
        [
         "Wordle 242",
         "158",
         "740",
         "1063",
         "775",
         "486"
        ],
        [
         "Wordle 243",
         "207",
         "556",
         "729",
         "713",
         "567"
        ],
        [
         "Wordle 244",
         "97",
         "540",
         "1085",
         "1062",
         "573"
        ],
        [
         "Wordle 245",
         "43",
         "302",
         "684",
         "1026",
         "878"
        ],
        [
         "Wordle 246",
         "138",
         "756",
         "1157",
         "878",
         "399"
        ],
        [
         "Wordle 247",
         "329",
         "964",
         "1130",
         "765",
         "332"
        ],
        [
         "Wordle 248",
         "480",
         "1408",
         "1163",
         "416",
         "130"
        ],
        [
         "Wordle 249",
         "307",
         "1233",
         "1805",
         "1612",
         "1253"
        ],
        [
         "Wordle 250",
         "476",
         "1603",
         "2419",
         "1782",
         "826"
        ],
        [
         "Wordle 251",
         "243",
         "987",
         "2661",
         "3196",
         "2002"
        ]
       ],
       "shape": {
        "columns": 5,
        "rows": 42
       }
      },
      "text/html": [
       "<div>\n",
       "<style scoped>\n",
       "    .dataframe tbody tr th:only-of-type {\n",
       "        vertical-align: middle;\n",
       "    }\n",
       "\n",
       "    .dataframe tbody tr th {\n",
       "        vertical-align: top;\n",
       "    }\n",
       "\n",
       "    .dataframe thead th {\n",
       "        text-align: right;\n",
       "    }\n",
       "</style>\n",
       "<table border=\"1\" class=\"dataframe\">\n",
       "  <thead>\n",
       "    <tr style=\"text-align: right;\">\n",
       "      <th>attempts</th>\n",
       "      <th>2</th>\n",
       "      <th>3</th>\n",
       "      <th>4</th>\n",
       "      <th>5</th>\n",
       "      <th>6</th>\n",
       "    </tr>\n",
       "    <tr>\n",
       "      <th>wordle_id</th>\n",
       "      <th></th>\n",
       "      <th></th>\n",
       "      <th></th>\n",
       "      <th></th>\n",
       "      <th></th>\n",
       "    </tr>\n",
       "  </thead>\n",
       "  <tbody>\n",
       "    <tr>\n",
       "      <th>Wordle 210</th>\n",
       "      <td>222</td>\n",
       "      <td>897</td>\n",
       "      <td>1064</td>\n",
       "      <td>489</td>\n",
       "      <td>165</td>\n",
       "    </tr>\n",
       "    <tr>\n",
       "      <th>Wordle 211</th>\n",
       "      <td>196</td>\n",
       "      <td>903</td>\n",
       "      <td>1016</td>\n",
       "      <td>564</td>\n",
       "      <td>215</td>\n",
       "    </tr>\n",
       "    <tr>\n",
       "      <th>Wordle 212</th>\n",
       "      <td>191</td>\n",
       "      <td>787</td>\n",
       "      <td>820</td>\n",
       "      <td>413</td>\n",
       "      <td>188</td>\n",
       "    </tr>\n",
       "    <tr>\n",
       "      <th>Wordle 213</th>\n",
       "      <td>51</td>\n",
       "      <td>260</td>\n",
       "      <td>630</td>\n",
       "      <td>697</td>\n",
       "      <td>481</td>\n",
       "    </tr>\n",
       "    <tr>\n",
       "      <th>Wordle 214</th>\n",
       "      <td>383</td>\n",
       "      <td>1012</td>\n",
       "      <td>823</td>\n",
       "      <td>363</td>\n",
       "      <td>122</td>\n",
       "    </tr>\n",
       "    <tr>\n",
       "      <th>Wordle 215</th>\n",
       "      <td>246</td>\n",
       "      <td>877</td>\n",
       "      <td>1017</td>\n",
       "      <td>579</td>\n",
       "      <td>224</td>\n",
       "    </tr>\n",
       "    <tr>\n",
       "      <th>Wordle 216</th>\n",
       "      <td>461</td>\n",
       "      <td>1952</td>\n",
       "      <td>2078</td>\n",
       "      <td>1199</td>\n",
       "      <td>415</td>\n",
       "    </tr>\n",
       "    <tr>\n",
       "      <th>Wordle 217</th>\n",
       "      <td>102</td>\n",
       "      <td>566</td>\n",
       "      <td>1031</td>\n",
       "      <td>843</td>\n",
       "      <td>418</td>\n",
       "    </tr>\n",
       "    <tr>\n",
       "      <th>Wordle 218</th>\n",
       "      <td>170</td>\n",
       "      <td>1009</td>\n",
       "      <td>1384</td>\n",
       "      <td>730</td>\n",
       "      <td>187</td>\n",
       "    </tr>\n",
       "    <tr>\n",
       "      <th>Wordle 219</th>\n",
       "      <td>38</td>\n",
       "      <td>343</td>\n",
       "      <td>927</td>\n",
       "      <td>1039</td>\n",
       "      <td>583</td>\n",
       "    </tr>\n",
       "    <tr>\n",
       "      <th>Wordle 220</th>\n",
       "      <td>392</td>\n",
       "      <td>1629</td>\n",
       "      <td>2389</td>\n",
       "      <td>1609</td>\n",
       "      <td>637</td>\n",
       "    </tr>\n",
       "    <tr>\n",
       "      <th>Wordle 221</th>\n",
       "      <td>274</td>\n",
       "      <td>1530</td>\n",
       "      <td>2630</td>\n",
       "      <td>1608</td>\n",
       "      <td>603</td>\n",
       "    </tr>\n",
       "    <tr>\n",
       "      <th>Wordle 222</th>\n",
       "      <td>567</td>\n",
       "      <td>2010</td>\n",
       "      <td>2397</td>\n",
       "      <td>1322</td>\n",
       "      <td>468</td>\n",
       "    </tr>\n",
       "    <tr>\n",
       "      <th>Wordle 223</th>\n",
       "      <td>597</td>\n",
       "      <td>2885</td>\n",
       "      <td>5086</td>\n",
       "      <td>4594</td>\n",
       "      <td>2614</td>\n",
       "    </tr>\n",
       "    <tr>\n",
       "      <th>Wordle 224</th>\n",
       "      <td>443</td>\n",
       "      <td>2100</td>\n",
       "      <td>2528</td>\n",
       "      <td>1418</td>\n",
       "      <td>457</td>\n",
       "    </tr>\n",
       "    <tr>\n",
       "      <th>Wordle 225</th>\n",
       "      <td>123</td>\n",
       "      <td>1305</td>\n",
       "      <td>2914</td>\n",
       "      <td>1856</td>\n",
       "      <td>699</td>\n",
       "    </tr>\n",
       "    <tr>\n",
       "      <th>Wordle 226</th>\n",
       "      <td>687</td>\n",
       "      <td>1801</td>\n",
       "      <td>1796</td>\n",
       "      <td>1189</td>\n",
       "      <td>628</td>\n",
       "    </tr>\n",
       "    <tr>\n",
       "      <th>Wordle 227</th>\n",
       "      <td>911</td>\n",
       "      <td>2436</td>\n",
       "      <td>2122</td>\n",
       "      <td>995</td>\n",
       "      <td>355</td>\n",
       "    </tr>\n",
       "    <tr>\n",
       "      <th>Wordle 228</th>\n",
       "      <td>774</td>\n",
       "      <td>1951</td>\n",
       "      <td>1925</td>\n",
       "      <td>968</td>\n",
       "      <td>388</td>\n",
       "    </tr>\n",
       "    <tr>\n",
       "      <th>Wordle 229</th>\n",
       "      <td>446</td>\n",
       "      <td>1614</td>\n",
       "      <td>2032</td>\n",
       "      <td>1605</td>\n",
       "      <td>807</td>\n",
       "    </tr>\n",
       "    <tr>\n",
       "      <th>Wordle 230</th>\n",
       "      <td>691</td>\n",
       "      <td>1993</td>\n",
       "      <td>2087</td>\n",
       "      <td>1323</td>\n",
       "      <td>571</td>\n",
       "    </tr>\n",
       "    <tr>\n",
       "      <th>Wordle 231</th>\n",
       "      <td>360</td>\n",
       "      <td>1836</td>\n",
       "      <td>2832</td>\n",
       "      <td>1974</td>\n",
       "      <td>811</td>\n",
       "    </tr>\n",
       "    <tr>\n",
       "      <th>Wordle 232</th>\n",
       "      <td>87</td>\n",
       "      <td>631</td>\n",
       "      <td>1195</td>\n",
       "      <td>937</td>\n",
       "      <td>474</td>\n",
       "    </tr>\n",
       "    <tr>\n",
       "      <th>Wordle 233</th>\n",
       "      <td>195</td>\n",
       "      <td>943</td>\n",
       "      <td>1762</td>\n",
       "      <td>2061</td>\n",
       "      <td>1492</td>\n",
       "    </tr>\n",
       "    <tr>\n",
       "      <th>Wordle 234</th>\n",
       "      <td>668</td>\n",
       "      <td>1423</td>\n",
       "      <td>1633</td>\n",
       "      <td>1574</td>\n",
       "      <td>927</td>\n",
       "    </tr>\n",
       "    <tr>\n",
       "      <th>Wordle 235</th>\n",
       "      <td>290</td>\n",
       "      <td>1425</td>\n",
       "      <td>2332</td>\n",
       "      <td>1688</td>\n",
       "      <td>751</td>\n",
       "    </tr>\n",
       "    <tr>\n",
       "      <th>Wordle 236</th>\n",
       "      <td>792</td>\n",
       "      <td>2519</td>\n",
       "      <td>3417</td>\n",
       "      <td>2260</td>\n",
       "      <td>1066</td>\n",
       "    </tr>\n",
       "    <tr>\n",
       "      <th>Wordle 237</th>\n",
       "      <td>383</td>\n",
       "      <td>1835</td>\n",
       "      <td>3293</td>\n",
       "      <td>3131</td>\n",
       "      <td>1518</td>\n",
       "    </tr>\n",
       "    <tr>\n",
       "      <th>Wordle 238</th>\n",
       "      <td>400</td>\n",
       "      <td>1587</td>\n",
       "      <td>2553</td>\n",
       "      <td>1793</td>\n",
       "      <td>732</td>\n",
       "    </tr>\n",
       "    <tr>\n",
       "      <th>Wordle 239</th>\n",
       "      <td>312</td>\n",
       "      <td>1382</td>\n",
       "      <td>1754</td>\n",
       "      <td>1169</td>\n",
       "      <td>423</td>\n",
       "    </tr>\n",
       "    <tr>\n",
       "      <th>Wordle 240</th>\n",
       "      <td>110</td>\n",
       "      <td>726</td>\n",
       "      <td>2258</td>\n",
       "      <td>2303</td>\n",
       "      <td>1051</td>\n",
       "    </tr>\n",
       "    <tr>\n",
       "      <th>Wordle 241</th>\n",
       "      <td>353</td>\n",
       "      <td>1791</td>\n",
       "      <td>2386</td>\n",
       "      <td>1572</td>\n",
       "      <td>733</td>\n",
       "    </tr>\n",
       "    <tr>\n",
       "      <th>Wordle 242</th>\n",
       "      <td>158</td>\n",
       "      <td>740</td>\n",
       "      <td>1063</td>\n",
       "      <td>775</td>\n",
       "      <td>486</td>\n",
       "    </tr>\n",
       "    <tr>\n",
       "      <th>Wordle 243</th>\n",
       "      <td>207</td>\n",
       "      <td>556</td>\n",
       "      <td>729</td>\n",
       "      <td>713</td>\n",
       "      <td>567</td>\n",
       "    </tr>\n",
       "    <tr>\n",
       "      <th>Wordle 244</th>\n",
       "      <td>97</td>\n",
       "      <td>540</td>\n",
       "      <td>1085</td>\n",
       "      <td>1062</td>\n",
       "      <td>573</td>\n",
       "    </tr>\n",
       "    <tr>\n",
       "      <th>Wordle 245</th>\n",
       "      <td>43</td>\n",
       "      <td>302</td>\n",
       "      <td>684</td>\n",
       "      <td>1026</td>\n",
       "      <td>878</td>\n",
       "    </tr>\n",
       "    <tr>\n",
       "      <th>Wordle 246</th>\n",
       "      <td>138</td>\n",
       "      <td>756</td>\n",
       "      <td>1157</td>\n",
       "      <td>878</td>\n",
       "      <td>399</td>\n",
       "    </tr>\n",
       "    <tr>\n",
       "      <th>Wordle 247</th>\n",
       "      <td>329</td>\n",
       "      <td>964</td>\n",
       "      <td>1130</td>\n",
       "      <td>765</td>\n",
       "      <td>332</td>\n",
       "    </tr>\n",
       "    <tr>\n",
       "      <th>Wordle 248</th>\n",
       "      <td>480</td>\n",
       "      <td>1408</td>\n",
       "      <td>1163</td>\n",
       "      <td>416</td>\n",
       "      <td>130</td>\n",
       "    </tr>\n",
       "    <tr>\n",
       "      <th>Wordle 249</th>\n",
       "      <td>307</td>\n",
       "      <td>1233</td>\n",
       "      <td>1805</td>\n",
       "      <td>1612</td>\n",
       "      <td>1253</td>\n",
       "    </tr>\n",
       "    <tr>\n",
       "      <th>Wordle 250</th>\n",
       "      <td>476</td>\n",
       "      <td>1603</td>\n",
       "      <td>2419</td>\n",
       "      <td>1782</td>\n",
       "      <td>826</td>\n",
       "    </tr>\n",
       "    <tr>\n",
       "      <th>Wordle 251</th>\n",
       "      <td>243</td>\n",
       "      <td>987</td>\n",
       "      <td>2661</td>\n",
       "      <td>3196</td>\n",
       "      <td>2002</td>\n",
       "    </tr>\n",
       "  </tbody>\n",
       "</table>\n",
       "</div>"
      ],
      "text/plain": [
       "attempts      2     3     4     5     6\n",
       "wordle_id                              \n",
       "Wordle 210  222   897  1064   489   165\n",
       "Wordle 211  196   903  1016   564   215\n",
       "Wordle 212  191   787   820   413   188\n",
       "Wordle 213   51   260   630   697   481\n",
       "Wordle 214  383  1012   823   363   122\n",
       "Wordle 215  246   877  1017   579   224\n",
       "Wordle 216  461  1952  2078  1199   415\n",
       "Wordle 217  102   566  1031   843   418\n",
       "Wordle 218  170  1009  1384   730   187\n",
       "Wordle 219   38   343   927  1039   583\n",
       "Wordle 220  392  1629  2389  1609   637\n",
       "Wordle 221  274  1530  2630  1608   603\n",
       "Wordle 222  567  2010  2397  1322   468\n",
       "Wordle 223  597  2885  5086  4594  2614\n",
       "Wordle 224  443  2100  2528  1418   457\n",
       "Wordle 225  123  1305  2914  1856   699\n",
       "Wordle 226  687  1801  1796  1189   628\n",
       "Wordle 227  911  2436  2122   995   355\n",
       "Wordle 228  774  1951  1925   968   388\n",
       "Wordle 229  446  1614  2032  1605   807\n",
       "Wordle 230  691  1993  2087  1323   571\n",
       "Wordle 231  360  1836  2832  1974   811\n",
       "Wordle 232   87   631  1195   937   474\n",
       "Wordle 233  195   943  1762  2061  1492\n",
       "Wordle 234  668  1423  1633  1574   927\n",
       "Wordle 235  290  1425  2332  1688   751\n",
       "Wordle 236  792  2519  3417  2260  1066\n",
       "Wordle 237  383  1835  3293  3131  1518\n",
       "Wordle 238  400  1587  2553  1793   732\n",
       "Wordle 239  312  1382  1754  1169   423\n",
       "Wordle 240  110   726  2258  2303  1051\n",
       "Wordle 241  353  1791  2386  1572   733\n",
       "Wordle 242  158   740  1063   775   486\n",
       "Wordle 243  207   556   729   713   567\n",
       "Wordle 244   97   540  1085  1062   573\n",
       "Wordle 245   43   302   684  1026   878\n",
       "Wordle 246  138   756  1157   878   399\n",
       "Wordle 247  329   964  1130   765   332\n",
       "Wordle 248  480  1408  1163   416   130\n",
       "Wordle 249  307  1233  1805  1612  1253\n",
       "Wordle 250  476  1603  2419  1782   826\n",
       "Wordle 251  243   987  2661  3196  2002"
      ]
     },
     "execution_count": 69,
     "metadata": {},
     "output_type": "execute_result"
    }
   ],
   "source": [
    "# number of attempts\n",
    "tweets.groupby('wordle_id')['attempts'].value_counts() \\\n",
    ".unstack()"
   ]
  },
  {
   "cell_type": "code",
   "execution_count": 73,
   "id": "6300fcf3",
   "metadata": {},
   "outputs": [
    {
     "data": {
      "image/png": "[encoded data removed]",
      "text/plain": [
       "<Figure size 1000x500 with 1 Axes>"
      ]
     },
     "metadata": {},
     "output_type": "display_data"
    }
   ],
   "source": [
    "#how many attempts does it take to slove\n",
    "tweets['attempts'].value_counts().sort_index().plot(kind='barh', figsize = (10,5))\n",
    "plt.xlabel('Number of Tweets')\n",
    "plt.ylabel('Number of Attempts Solved in')\n",
    "plt.show()"
   ]
  },
  {
   "cell_type": "code",
   "execution_count": null,
   "id": "2ff4337c",
   "metadata": {},
   "outputs": [],
   "source": [
    "#parsing tweets \n",
    "tweets['tweet_text'] = tweets['tweet_text'].str.replace('⬜','⬛')#for consistency "
   ]
  },
  {
   "cell_type": "code",
   "execution_count": null,
   "id": "53b12890",
   "metadata": {},
   "outputs": [],
   "source": [
    "#guess number of attempts\n",
    "def parse_tweet_text(tweets):\n",
    "    for n in range (6):\n",
    "        n = 1 #guess number\n",
    "\n",
    "        tweets[f'has_guess{n}'] = tweets['tweet_text'].str.split('\\n').str[n+1] \\\n",
    "        .str.contains(\"|\".join(['🟨','⬛','🟩'])) \\\n",
    "        .fillna(False)\n",
    "\n",
    "        #parse out tweet text \n",
    "        tweets.loc[tweets[f'has_guess{n}'], f'guess{n}'] = \\\n",
    "            tweets['tweet_text'].str.split('\\n').str[n + 1].str[:5] #parse out tweet text\n",
    "\n",
    "        # counting number of 🟨, ⬛, 🟩 (in each line) \n",
    "        tweets.loc[tweets[f'has_guess{n}'],\n",
    "                f'guess{n}_incorrect'] = tweets[f'guess{n}'].str.count('⬛')\n",
    "        tweets.loc[tweets[f'has_guess{n}'],\n",
    "                f'guess{n}_wrong_spot'] = tweets[f'guess{n}'].str.count('🟨')\n",
    "        tweets.loc[tweets[f'has_guess{n}'],\n",
    "                f'guess{n}_correct'] = tweets[f'guess{n}'].str.count('🟩')\n",
    "        tweets.loc[tweets[f'guess{n}_correct'] == 6, 'final_guess'] = n\n",
    "        return tweets\n",
    "    \n",
    "tweets = parse_tweet_text(tweets)"
   ]
  },
  {
   "cell_type": "code",
   "execution_count": 113,
   "id": "fbff06a5",
   "metadata": {},
   "outputs": [],
   "source": [
    "#keping extra wording in tweets\n",
    "tweets['additional_text'] = \\\n",
    "    tweets.loc[~tweets['tweet_text'] \\\n",
    "    .str.split('\\n').str[-1].str.contains('🟩')] \\\n",
    "    ['tweet_text'].str.split('\\n').str[-1]"
   ]
  },
  {
   "cell_type": "code",
   "execution_count": null,
   "id": "1c484c81",
   "metadata": {},
   "outputs": [],
   "source": [
    "#ploting\n",
    "fig, "
   ]
  }
 ],
 "metadata": {
  "kernelspec": {
   "display_name": "base",
   "language": "python",
   "name": "python3"
  },
  "language_info": {
   "codemirror_mode": {
    "name": "ipython",
    "version": 3
   },
   "file_extension": ".py",
   "mimetype": "text/x-python",
   "name": "python",
   "nbconvert_exporter": "python",
   "pygments_lexer": "ipython3",
   "version": "3.12.7"
  }
 },
 "nbformat": 4,
 "nbformat_minor": 5
}
